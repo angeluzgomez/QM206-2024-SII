{
  "nbformat": 4,
  "nbformat_minor": 0,
  "metadata": {
    "colab": {
      "provenance": [],
      "authorship_tag": "ABX9TyMmNzB70LDCshWCHqGZ8EjL",
      "include_colab_link": true
    },
    "kernelspec": {
      "name": "python3",
      "display_name": "Python 3"
    },
    "language_info": {
      "name": "python"
    }
  },
  "cells": [
    {
      "cell_type": "markdown",
      "metadata": {
        "id": "view-in-github",
        "colab_type": "text"
      },
      "source": [
        "<a href=\"https://colab.research.google.com/github/angeluzgomez/QM206-2024-SII/blob/main/Tarea_1.ipynb\" target=\"_parent\"><img src=\"https://colab.research.google.com/assets/colab-badge.svg\" alt=\"Open In Colab\"/></a>"
      ]
    },
    {
      "cell_type": "code",
      "execution_count": 1,
      "metadata": {
        "colab": {
          "base_uri": "https://localhost:8080/"
        },
        "id": "VIrVkr1YFFyC",
        "outputId": "c8cc7ea5-4e9d-4051-bd86-8d0e4edca227"
      },
      "outputs": [
        {
          "output_type": "stream",
          "name": "stdout",
          "text": [
            "[{'simbolo': 'H', 'NA': 1, 'masa': 1.008}, {'simbolo': 'He', 'NA': 2, 'masa': 4.0026}, {'simbolo': 'Li', 'NA': 3, 'masa': 6.94}, {'simbolo': 'Be', 'NA': 4, 'masa': 9.0122}, {'simbolo': 'B', 'NA': 5, 'masa': 10.81}, {'simbolo': 'C', 'NA': 6, 'masa': 12.011}, {'simbolo': 'N', 'NA': 7, 'masa': 14.007}, {'simbolo': 'O', 'NA': 8, 'masa': 16.0}, {'simbolo': 'F', 'NA': 9, 'masa': 19.0}, {'simbolo': 'Ne', 'NA': 10, 'masa': 20.18}, {'simbolo': 'Na', 'NA': 11, 'masa': 22.99}, {'simbolo': 'Mg', 'NA': 12, 'masa': 24.31}, {'simbolo': 'Al', 'NA': 13, 'masa': 26.98}, {'simbolo': 'Si', 'NA': 14, 'masa': 28.09}, {'simbolo': 'P', 'NA': 15, 'masa': 30.97}, {'simbolo': 'S', 'NA': 16, 'masa': 32.07}, {'simbolo': 'Cl', 'NA': 17, 'masa': 35.45}, {'simbolo': 'Ar', 'NA': 18, 'masa': 39.95}, {'simbolo': 'K', 'NA': 19, 'masa': 39.09}, {'simbolo': 'Ca', 'NA': 20, 'masa': 40.08}]\n"
          ]
        }
      ],
      "source": [
        "elementos=[]\n",
        "elem={\"simbolo\":\"H\",\"NA\":1,\"masa\":1.008}\n",
        "elementos.append(elem)\n",
        "elem={\"simbolo\":\"He\",\"NA\":2,\"masa\":4.0026}\n",
        "elementos.append(elem)\n",
        "elem={\"simbolo\":\"Li\",\"NA\":3,\"masa\":6.94}\n",
        "elementos.append(elem)\n",
        "elem={\"simbolo\":\"Be\",\"NA\":4,\"masa\":9.0122}\n",
        "elementos.append(elem)\n",
        "elem={\"simbolo\":\"B\",\"NA\":5,\"masa\":10.81}\n",
        "elementos.append(elem)\n",
        "elem={\"simbolo\":\"C\",\"NA\":6,\"masa\":12.011}\n",
        "elementos.append(elem)\n",
        "elem={\"simbolo\":\"N\",\"NA\":7,\"masa\":14.007}\n",
        "elementos.append(elem)\n",
        "elem={\"simbolo\":\"O\",\"NA\":8,\"masa\":16.00}\n",
        "elementos.append(elem)\n",
        "elem={\"simbolo\":\"F\",\"NA\":9,\"masa\":19.00}\n",
        "elementos.append(elem)\n",
        "elem={\"simbolo\":\"Ne\",\"NA\":10,\"masa\":20.18}\n",
        "elementos.append(elem)\n",
        "elem={\"simbolo\":\"Na\",\"NA\":11,\"masa\":22.99}\n",
        "elementos.append(elem)\n",
        "elem={\"simbolo\":\"Mg\",\"NA\":12,\"masa\":24.31}\n",
        "elementos.append(elem)\n",
        "elem={\"simbolo\":\"Al\",\"NA\":13,\"masa\":26.98}\n",
        "elementos.append(elem)\n",
        "elem={\"simbolo\":\"Si\",\"NA\":14,\"masa\":28.09}\n",
        "elementos.append(elem)\n",
        "elem={\"simbolo\":\"P\",\"NA\":15,\"masa\":30.97}\n",
        "elementos.append(elem)\n",
        "elem={\"simbolo\":\"S\",\"NA\":16,\"masa\":32.07}\n",
        "elementos.append(elem)\n",
        "elem={\"simbolo\":\"Cl\",\"NA\":17,\"masa\":35.45}\n",
        "elementos.append(elem)\n",
        "elem={\"simbolo\":\"Ar\",\"NA\":18,\"masa\":39.95}\n",
        "elementos.append(elem)\n",
        "elem={\"simbolo\":\"K\",\"NA\":19,\"masa\":39.09}\n",
        "elementos.append(elem)\n",
        "elem={\"simbolo\":\"Ca\",\"NA\":20,\"masa\":40.08}\n",
        "elementos.append(elem)\n",
        "\n",
        "print(elementos)"
      ]
    }
  ]
}